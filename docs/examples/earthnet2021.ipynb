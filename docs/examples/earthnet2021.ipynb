{
 "cells": [
  {
   "cell_type": "markdown",
   "metadata": {},
   "source": [
    "# Weather-guided Earth Surface Forecasting with Eathformer on EarthNet2021"
   ]
  },
  {
   "cell_type": "markdown",
   "metadata": {},
   "source": [
    "[![Open In Studio Lab](https://studiolab.sagemaker.aws/studiolab.svg)](https://studiolab.sagemaker.aws/import/github/opengeos/earthformer/blob/main/docs/examples/earthnet2021.ipynb) [![Open In Colab](https://colab.research.google.com/assets/colab-badge.svg)](https://colab.research.google.com/github/opengeos/earthformer/blob/main/docs/examples/earthnet2021.ipynb)"
   ]
  },
  {
   "cell_type": "markdown",
   "metadata": {},
   "source": [
    "The notebook is adapted from the original Earthformer repo [here](https://github.com/amazon-science/earth-forecasting-transformer/blob/main/scripts/cuboid_transformer/earthnet_w_meso/inference_tutorial_earthformer_earthnet2021.ipynb). Credits to the original authors.\n",
    "\n",
    "\n",
    "In this tutorial, we will demonstrate how to apply [Earthformer](https://assets.amazon.science/89/ad/cb9c23dd4bb69b8e03bbbecdb4b8/earthformer-exploring-space-time-transformers-for-earth-system-forecasting.pdf) for *weather-guided* Earth surface forecasting. The goal of the task is to predict the future land surface based on both the previous land surface observations and the future weather. This is an important problem because the future Earth surface can reflect the potential agricultural output and the ecosystem health. We will use the [EarthNet2021](https://arxiv.org/pdf/2104.10066.pdf) dataset. EarthNet2021 contains Sentinel-2 imagery at the 20 m resolution as well as the topography and mesoscale (1.28 km) meteorological variables collected from [E-OBS](https://agupubs.onlinelibrary.wiley.com/doi/full/10.1029/2017JD028200). We will show how Earthformer can help predict the land surface in the future 100 days (5-daily prediction) based on the observational data from the previous 50 days and the weather forecasts.\n",
    "\n",
    "*Note*: For running this tutorial, you need to use a GPU instance. If you are using SageMaker Studio Lab or Google Colab, simply pick runtime to be `GPU`."
   ]
  },
  {
   "cell_type": "markdown",
   "metadata": {},
   "source": [
    "## Load and Visualize EarthNet2021"
   ]
  },
  {
   "cell_type": "markdown",
   "metadata": {},
   "source": [
    "For the purpose of demonstration, we download a small subset of the IID-test split of EarthNet2021."
   ]
  },
  {
   "cell_type": "code",
   "execution_count": null,
   "metadata": {},
   "outputs": [],
   "source": [
    "# %pip install earthformer pytorch-lightning==1.7.7"
   ]
  },
  {
   "cell_type": "code",
   "execution_count": null,
   "metadata": {},
   "outputs": [],
   "source": [
    "# %pip install -q --disable-pip-version-check --no-cache-dir git+https://github.com/NVIDIA/apex.git"
   ]
  },
  {
   "cell_type": "code",
   "execution_count": null,
   "metadata": {},
   "outputs": [],
   "source": [
    "import earthformer\n",
    "import leafmap"
   ]
  },
  {
   "cell_type": "markdown",
   "metadata": {},
   "source": [
    "Download Earthnet 2021 dataset."
   ]
  },
  {
   "cell_type": "code",
   "execution_count": null,
   "metadata": {},
   "outputs": [],
   "source": [
    "url = 'https://owncloud.gwdg.de/index.php/s/yHwDqblRPdFnEym/download'\n",
    "earthformer.download_file(url, 'datasets/earthnet2021/iid_000.tar.gz')"
   ]
  },
  {
   "cell_type": "code",
   "execution_count": null,
   "metadata": {
    "colab": {
     "base_uri": "https://localhost:8080/"
    },
    "outputId": "f011fd32-88fc-4a1c-a9f2-db9d32bd8c77"
   },
   "outputs": [],
   "source": [
    "from omegaconf import OmegaConf\n",
    "from earthformer.datasets.earthnet.earthnet_dataloader import (\n",
    "    EarthNet2021LightningDataModule,\n",
    "    EarthNet2021TestDataset,\n",
    ")\n",
    "from pytorch_lightning import Trainer, seed_everything, loggers as pl_loggers\n",
    "from earthformer.datasets.earthnet.visualization import vis_earthnet_seq\n",
    "import numpy as np\n",
    "from pathlib import Path\n",
    "\n",
    "config_file = earthformer.get_earthnet_yaml()\n",
    "config = OmegaConf.load(open(config_file, \"r\"))\n",
    "in_len = config.layout.in_len\n",
    "out_len = config.layout.out_len\n",
    "\n",
    "seed = config.optim.seed\n",
    "dataset_cfg = OmegaConf.to_object(config.dataset)\n",
    "\n",
    "seed_everything(seed, workers=True)\n",
    "\n",
    "micro_batch_size = 1\n",
    "\n",
    "earthnet_iid_testset = EarthNet2021TestDataset(\n",
    "    subset_name=\"iid\",\n",
    "    data_dir=\"./datasets/earthnet2021/iid_test_split\",\n",
    "    layout=config.dataset.layout,\n",
    "    static_layout=config.dataset.static_layout,\n",
    "    highresstatic_expand_t=config.dataset.highresstatic_expand_t,\n",
    "    mesostatic_expand_t=config.dataset.mesostatic_expand_t,\n",
    "    meso_crop=None,\n",
    "    fp16=False,\n",
    ")\n",
    "total_num_test_samples = len(earthnet_iid_testset)\n",
    "print(\"The total number samples in the IID test subset is\", total_num_test_samples)"
   ]
  },
  {
   "cell_type": "markdown",
   "metadata": {},
   "source": [
    "Each sample in the dataset contains four components:\n",
    "\n",
    "- **\"highresdynamic\"**: The Sentinel-2 landcover data. The bands are \"blue\", \"green\", \"red\", \"nir\", \"cloud\". We will use the first four bands in this problem. This dataset will be 5-daily, meaning that there will be one observation in 5 days. The size of each frame is 128x128.\n",
    "\n",
    "- **\"highresstatic\"**: The elevation of the Sentinel-2 data.\n",
    "\n",
    "- **\"mesodynamic\"**: The mesoscale weather data. The bands are \"precipitation\", \"pressure\", \"temp mean\", \"temp min\", \"temp max\". The data will be daily and the size of each frame is 80x80.\n",
    "\n",
    "- **\"mesostatic\"**: The elevation of the mesoscale weather data.\n",
    "\n",
    "We will use the first 10 frames of **\"highresdynamics\"** and the auxiliary data (**highresstatic**, **mesodynamic**, **mesostatic**) to predict the future 20 frames of **\"highresdynamics\"**. This is equivalent to using the land surface data in the previous 50 days to predict the land surface data in the coming 100 days.\n",
    "\n",
    "Let's first visualize some data samples:"
   ]
  },
  {
   "cell_type": "code",
   "execution_count": null,
   "metadata": {
    "colab": {
     "base_uri": "https://localhost:8080/",
     "height": 861
    },
    "outputId": "757f7b20-aa53-4853-e174-859328e22d6f"
   },
   "outputs": [],
   "source": [
    "idx = 1\n",
    "\n",
    "\n",
    "def process_sample(sample):\n",
    "    # High-resolution Earth surface data. The channels are [blue, green, red, nir, cloud]\n",
    "    highresdynamic = sample['highresdynamic']\n",
    "    highresstatic = sample['highresstatic']\n",
    "\n",
    "    # The meso-scale data. The channels are [\"precipitation\", \"pressure\", \"temp mean\", \"temp min\", \"temp max\"]\n",
    "    mesodynamic = sample['mesodynamic']\n",
    "    mesostatic = sample['mesostatic']\n",
    "\n",
    "    highresdynamic = np.nan_to_num(highresdynamic, nan=0.0, posinf=1.0, neginf=0.0)\n",
    "    highresdynamic = np.clip(highresdynamic, a_min=0.0, a_max=1.0)\n",
    "    mesodynamic = np.nan_to_num(mesodynamic, nan=0.0)\n",
    "    highresstatic = np.nan_to_num(highresstatic, nan=0.0)\n",
    "    mesostatic = np.nan_to_num(mesostatic, nan=0.0)\n",
    "    return highresdynamic, highresstatic, mesodynamic, mesostatic\n",
    "\n",
    "\n",
    "highresdynamic, highresstatic, mesodynamic, mesostatic = process_sample(\n",
    "    earthnet_iid_testset[idx]\n",
    ")\n",
    "\n",
    "highresdynamic_in, highresdynamic_out = (\n",
    "    highresdynamic[:in_len, ...],\n",
    "    highresdynamic[in_len:, ...],\n",
    ")\n",
    "highresstatic_in, highresstatic_out = (\n",
    "    highresstatic[:in_len, ...],\n",
    "    highresstatic[in_len:, ...],\n",
    ")\n",
    "mesodynamic_in, mesodynamic_out = mesodynamic[:in_len, ...], mesodynamic[in_len:, ...]\n",
    "mesostatic_in, mesostatic_out = mesostatic[:in_len, ...], mesostatic[in_len:, ...]\n",
    "\n",
    "fig_rgb = vis_earthnet_seq(\n",
    "    context_np=np.expand_dims(highresdynamic_in, axis=0),\n",
    "    target_np=np.expand_dims(highresdynamic_out, axis=0),\n",
    "    pred_np=None,\n",
    "    layout='N' + config.dataset.layout,\n",
    ")"
   ]
  },
  {
   "cell_type": "markdown",
   "metadata": {},
   "source": [
    "You may notice that some frames are blank. This is because EarthNet2021 contains a \"data quality mask\" that indicates noise in the data. Earth observations are usually very noisy (due to factors like cloud or observational errors). We simply display the noisy pixels with the black value, and have masked them from the loss functions when training the neural network."
   ]
  },
  {
   "cell_type": "markdown",
   "metadata": {},
   "source": [
    "Following is the NDVI index calculated via the formula: $NDVI=\\frac{I_{\\text{NIR}} - I_{\\text{red}}}{I_{\\text{NIR}} + I_{\\text{red}}}$. It quantifies vegetation by measuring the difference between near-infrared (which vegetation strongly reflects) and red light (which vegetation absorbs). See the following image from NASA for an illustration of NDVI:\n",
    "\n",
    "![Image courtesy of NASA.](https://gisgeography.com/wp-content/uploads/2017/08/ndvi-example.jpg)\n",
    "\n",
    "Thus, one important use-case of our model is that it can also predict the future NDVI. Here, let's visualize the NDVI values of the EarthNet2021 sample."
   ]
  },
  {
   "cell_type": "code",
   "execution_count": null,
   "metadata": {
    "colab": {
     "base_uri": "https://localhost:8080/",
     "height": 1000
    },
    "outputId": "6568ac9c-9e4c-4aec-c462-ed0a4ea1d554"
   },
   "outputs": [],
   "source": [
    "fig_ndvi = vis_earthnet_seq(\n",
    "    context_np=np.expand_dims(highresdynamic_in, axis=0),\n",
    "    target_np=np.expand_dims(highresdynamic_out, axis=0),\n",
    "    pred_np=None,\n",
    "    layout='N' + config.dataset.layout,\n",
    "    variable=\"ndvi\",\n",
    ")"
   ]
  },
  {
   "cell_type": "markdown",
   "metadata": {},
   "source": [
    "## Brief Introduction of Earthformer"
   ]
  },
  {
   "cell_type": "markdown",
   "metadata": {},
   "source": [
    "Conventionally, Earth system (e.g., weather and climate) forecasting relies on numerical simulation with complex physical models and are hence both expensive in computation and demanding on domain expertise. With the explosive growth of the spatiotemporal Earth observation data in the past decade, data-driven models that apply Deep Learning (DL) are demonstrating impressive potential for various Earth system forecasting tasks. The Transformer as an emerging DL architecture, despite its broad success in other domains, has limited adoption in this area. In this paper, we propose Earthformer, a space-time Transformer for Earth system forecasting. Earthformer is based on a generic, flexible and efficient space-time attention block, named Cuboid Attention. The idea is to decompose the data into cuboids and apply cuboid-level self-attention in parallel. These cuboids are further connected with a collection of global vectors.\n",
    "\n",
    "Earthformer achieves strong results in synthetic datasets like MovingMNIST and N-body MNIST dataset, and also outperforms non-Transformer models (like ConvLSTM, CNN-U-Net) in SEVIR (precipitation nowcasting) and ICAR-ENSO2021 (El Nino/Southern Oscillation forecasting).\n",
    "\n",
    "<img src=\"https://raw.githubusercontent.com/amazon-science/earth-forecasting-transformer/main/figures/teaser.png\" width=\"800\"/>\n",
    "\n",
    "\n",
    "For more details, you may check [our paper](https://assets.amazon.science/89/ad/cb9c23dd4bb69b8e03bbbecdb4b8/earthformer-exploring-space-time-transformers-for-earth-system-forecasting.pdf)."
   ]
  },
  {
   "cell_type": "markdown",
   "metadata": {},
   "source": [
    "## Load Pretrained Earthformer"
   ]
  },
  {
   "cell_type": "markdown",
   "metadata": {},
   "source": [
    "We load the Earthformer pretrained on the training set of EarthNet2021. The model is current **rank-1** in [EarthNet2021 leaderboard](https://www.earthnet.tech/docs/ch-leaderboard/)."
   ]
  },
  {
   "cell_type": "code",
   "execution_count": null,
   "metadata": {
    "colab": {
     "base_uri": "https://localhost:8080/"
    },
    "outputId": "1acae447-fa17-42e1-e6ae-2117c1b5b0d8"
   },
   "outputs": [],
   "source": [
    "import torch\n",
    "import os\n",
    "from earthformer.train_cuboid_earthnet import CuboidEarthNet2021PLModule\n",
    "from earthformer.utils.utils import download\n",
    "\n",
    "save_dir = \"./experiments\"\n",
    "\n",
    "pl_module = CuboidEarthNet2021PLModule(\n",
    "    total_num_steps=None, save_dir=\"./experiments\", oc_file=config_file\n",
    ")\n",
    "\n",
    "pretrained_checkpoint_url = \"https://earthformer.s3.amazonaws.com/pretrained_checkpoints/earthformer_earthnet2021.pt\"\n",
    "local_checkpoint_path = os.path.join(save_dir, \"earthformer_earthnet2021.pt\")\n",
    "download(url=pretrained_checkpoint_url, path=local_checkpoint_path)\n",
    "\n",
    "state_dict = torch.load(local_checkpoint_path, map_location=torch.device(\"cpu\"))\n",
    "pl_module.torch_nn_module.load_state_dict(state_dict=state_dict)"
   ]
  },
  {
   "cell_type": "code",
   "execution_count": null,
   "metadata": {
    "colab": {
     "base_uri": "https://localhost:8080/"
    },
    "outputId": "74bbb71c-4185-4616-d5c2-99e01c974c2a"
   },
   "outputs": [],
   "source": [
    "pl_module.torch_nn_module.cuda()\n",
    "pl_module.torch_nn_module.eval()\n",
    "\n",
    "with torch.no_grad():\n",
    "    pred_seq, loss, in_seq, target_seq, mask = pl_module(\n",
    "        {\n",
    "            \"highresdynamic\": torch.tensor(\n",
    "                np.expand_dims(highresdynamic, axis=0)\n",
    "            ).cuda(),\n",
    "            \"highresstatic\": torch.tensor(np.expand_dims(highresstatic, axis=0)).cuda(),\n",
    "            \"mesodynamic\": torch.tensor(np.expand_dims(mesodynamic, axis=0)).cuda(),\n",
    "            \"mesostatic\": torch.tensor(np.expand_dims(mesostatic, axis=0)).cuda(),\n",
    "        }\n",
    "    )\n",
    "    pred_seq_np = pred_seq.detach().cpu().numpy()\n",
    "\n",
    "    print(\"loss=\", loss.detach().cpu().numpy())"
   ]
  },
  {
   "cell_type": "code",
   "execution_count": null,
   "metadata": {
    "colab": {
     "base_uri": "https://localhost:8080/",
     "height": 1000
    },
    "outputId": "4df660fe-1686-4110-ceaf-9c740ba7427a"
   },
   "outputs": [],
   "source": [
    "fig_rgb = vis_earthnet_seq(\n",
    "    context_np=np.expand_dims(highresdynamic_in, axis=0),\n",
    "    target_np=np.expand_dims(highresdynamic_out, axis=0),\n",
    "    pred_np=pred_seq_np,\n",
    "    layout='N' + config.dataset.layout,\n",
    ")"
   ]
  },
  {
   "cell_type": "code",
   "execution_count": null,
   "metadata": {
    "colab": {
     "base_uri": "https://localhost:8080/",
     "height": 1000
    },
    "outputId": "5d4ccc28-3844-40ce-a5b3-21b9507ace3c"
   },
   "outputs": [],
   "source": [
    "fig_ndvi = vis_earthnet_seq(\n",
    "    context_np=np.expand_dims(highresdynamic_in, axis=0),\n",
    "    target_np=np.expand_dims(highresdynamic_out, axis=0),\n",
    "    pred_np=pred_seq_np,\n",
    "    layout='N' + config.dataset.layout,\n",
    "    variable=\"ndvi\",\n",
    ")"
   ]
  },
  {
   "cell_type": "markdown",
   "metadata": {},
   "source": [
    "You can see that the predictions are close to the ground-truth. In addition, the original dataset contain observational noises and some of the target frames are blank. However, Earthformer is able to give reasonable predictions."
   ]
  },
  {
   "cell_type": "markdown",
   "metadata": {},
   "source": [
    "## More Details\n",
    "\n",
    "For more details, check our code-base https://github.com/amazon-science/earth-forecasting-transformer and the [Earthformer paper](https://assets.amazon.science/89/ad/cb9c23dd4bb69b8e03bbbecdb4b8/earthformer-exploring-space-time-transformers-for-earth-system-forecasting.pdf).\n"
   ]
  }
 ],
 "metadata": {
  "accelerator": "GPU",
  "colab": {
   "provenance": []
  },
  "gpuClass": "standard",
  "kernelspec": {
   "display_name": "Python 3",
   "language": "python",
   "name": "python3"
  },
  "language_info": {
   "codemirror_mode": {
    "name": "ipython",
    "version": 3
   },
   "file_extension": ".py",
   "mimetype": "text/x-python",
   "name": "python",
   "nbconvert_exporter": "python",
   "pygments_lexer": "ipython3",
   "version": "3.10.12"
  }
 },
 "nbformat": 4,
 "nbformat_minor": 5
}
